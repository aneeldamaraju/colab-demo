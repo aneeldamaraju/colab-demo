{
 "nbformat": 4,
 "nbformat_minor": 0,
 "metadata": {
  "colab": {
   "provenance": [],
   "authorship_tag": "ABX9TyOR221+AIdqmUIFvr2atQVF",
   "include_colab_link": true
  },
  "kernelspec": {
   "name": "python3",
   "language": "python",
   "display_name": "Python 3 (ipykernel)"
  },
  "language_info": {
   "name": "python"
  }
 },
 "cells": [
  {
   "cell_type": "markdown",
   "metadata": {
    "id": "view-in-github",
    "colab_type": "text"
   },
   "source": []
  },
  {
   "cell_type": "markdown",
   "source": [
    "Introduction to using Google colab and Github - Useful links / tutorial\n",
    " \n",
    "# This tutorial covers the following:\n",
    "\n",
    "- The basic structure of a project: the basic structure of a project (i.e., a combination of .py files and front-end .ipynb notebooks)\n",
    "- the basic idea behind version control\n",
    "- the logistics of editing a Github hosted ``.ipynb`` file in colab\n",
    "- the logistics of importing ``.py`` functions into colab"
   ],
   "metadata": {
    "collapsed": false
   }
  },
  {
   "cell_type": "markdown",
   "source": [
    "## Typical project structure:\n",
    "\n",
    "At the minimum, a well-structured python project consists of directories containing python (``.py``) files and jupyter notebook (``.ipynb``) files. The major computational code is in the python files, and the front-facing visualizations is written in the jupyter notebooks for easier reproduciabiliy of code. \n",
    "\n",
    "The computational code within the `.py` files is generally stored as a series of functions that can be imported into the `.ipynb` files as necessary. \n",
    "\n",
    "For more information on more advanced conventions for Github repositories: [Structuring Your Project](https://docs.python-guide.org/writing/structure/)"
   ],
   "metadata": {
    "collapsed": false
   }
  },
  {
   "cell_type": "markdown",
   "source": [
    "## Version control:\n",
    "\n",
    "Github (and Git) provide a helpful way to track changes and modifications across edits of multiple files simultaneously. These files are stored online for easy sharing and access.\n",
    "\n",
    "Creating a Github account, and being able to set up repositories is essential for python projects of any scale. If you need help creating a Github account and repository, a quick setup tutorial can be found [here](https://bebi103a.github.io/lessons/02/version_control_with_git.html).\n",
    "\n",
    "At its simplest, the version control cycle consists of two stages: *pulling* files from Github onto the your computer or google colab, and *pushing* your modified files back to the online Github repository. The official Github tutorial for pulling existing files can be found [here](https://docs.github.com/en/get-started/start-your-journey/hello-world). Pushing files can be done through the terminal as shown in the setup tutorial, but can also be done in the web UI on the Github page for your repository. \n"
   ],
   "metadata": {
    "collapsed": false
   }
  },
  {
   "cell_type": "markdown",
   "source": [
    "## Using Github files in Google colab\n",
    "\n",
    "Google colab includes an interface to easily load notebooks from Github, [https://colab.research.google.com/github/](https://colab.research.google.com/github/). This requires the url of the file that you wish to download, which can be copied from the online Github repository. For example, this notebook file is hosted at [https://github.com/aneeldamaraju/colab-demo/blob/main/main.ipynb](https://github.com/aneeldamaraju/colab-demo/blob/main/main.ipynb). Once this notebook is loaded into your Colab, it is unaffected by other changes to the Github repository, and you can modify it without affecting others versions of this file."
   ],
   "metadata": {
    "collapsed": false
   }
  },
  {
   "cell_type": "markdown",
   "source": [
    "## Importing other files into Colab\n",
    "\n",
    "We have now downloaded a single file from our Github repository, a ``.ipynb`` notebook. If we want to access the other files in our Github repository in this file, there are a couple of ways to do this.  \n",
    "\n",
    "### Option 1: Using `wget` to import needed files\n",
    "\n",
    "One option to get existing files is through using `!wget` to download a file from the web. We can point to files in our github repository to download them to our temporary runtime. If you start a new runtime they will need to be redownloaded, so be cautious when working with larger files. **Important**: you cannot just copy and paste the url of the file for `wget`, you must use the following url structure: ``https://raw.githubusercontent.com/[username]/[repository name]/[branch name]/[directory]/[file]``. More information on this can be found [here](https://colab.research.google.com/github/jckantor/cbe61622/blob/master/docs/A.02-Downloading_Python_source_files_from_github.ipynb#scrollTo=70CslBHSOXMT).\n"
   ],
   "metadata": {
    "collapsed": false
   }
  },
  {
   "cell_type": "code",
   "execution_count": null,
   "outputs": [],
   "source": [
    "!wget https://raw.githubusercontent.com/aneeldamaraju/colab-demo/main/media/eclipse.jpg\n",
    "!wget https://raw.githubusercontent.com/aneeldamaraju/colab-demo/main/helpers/plot_image.py"
   ],
   "metadata": {
    "collapsed": false,
    "is_executing": true
   }
  },
  {
   "cell_type": "code",
   "execution_count": null,
   "outputs": [],
   "source": [
    "import matplotlib.image as mpimg\n",
    "from plot_image import plot_image\n",
    "\n",
    "image = mpimg.imread(\"eclipse.jpg\")\n",
    "plot_image(image)"
   ],
   "metadata": {
    "collapsed": false,
    "is_executing": true
   }
  },
  {
   "cell_type": "markdown",
   "source": [
    "### Option 2: Using `git clone`\n",
    "\n",
    "Rather than import one file at a time, we can instead use `git clone` to copy the entire repository into our \n"
   ],
   "metadata": {
    "collapsed": false
   }
  }
 ]
}
