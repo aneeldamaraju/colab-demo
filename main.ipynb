{
 "nbformat": 4,
 "nbformat_minor": 0,
 "metadata": {
  "colab": {
   "provenance": [],
   "authorship_tag": "ABX9TyOR221+AIdqmUIFvr2atQVF",
   "include_colab_link": true
  },
  "kernelspec": {
   "name": "python3",
   "display_name": "Python 3"
  },
  "language_info": {
   "name": "python"
  }
 },
 "cells": [
  {
   "cell_type": "markdown",
   "metadata": {
    "id": "view-in-github",
    "colab_type": "text"
   },
   "source": []
  },
  {
   "cell_type": "markdown",
   "source": [
    "Introduction to using Google colab and Github - Useful links / tutorial\n",
    " \n",
    "# This tutorial covers the following:\n",
    "\n",
    "- The basic structure of a project: the basic structure of a project (i.e., a combination of .py files and front-end .ipynb notebooks)\n",
    "- the basic idea behind version control\n",
    "- the logistics of editing a Github hosted ``.ipynb`` file in colab\n",
    "- the logistics of importing ``.py`` functions into colab"
   ],
   "metadata": {
    "collapsed": false
   }
  },
  {
   "cell_type": "markdown",
   "source": [
    "## Typical project structure:\n",
    "\n",
    "At the minimum, a well-structured python project consists of directories containing python (``.py``) files and jupyter notebook (``.ipynb``) files. The major computational code is in the python files, and the front-facing visualizations is written in the jupyter notebooks for easier reproduciabiliy of code. \n",
    "\n",
    "For more information on more advanced conventions for Github repositories: [Structuring Your Project](https://docs.python-guide.org/writing/structure/)"
   ],
   "metadata": {
    "collapsed": false
   }
  },
  {
   "cell_type": "markdown",
   "source": [
    "## Version control:\n",
    "\n",
    "Github (and Git) provide a helpful way to track changes and modifications across edits of multiple files simultaneously. These files are stored online for easy sharing and access.\n",
    "\n",
    "Creating a Github account, and being able to set up repositories is essential for python projects of any scale. If you need help creating a Github account and repository, a quick setup tutorial can be found [here](https://bebi103a.github.io/lessons/02/version_control_with_git.html).\n",
    "\n",
    "At its simplest, the version control cycle consists of two stages: *pulling* files from Github onto the your computer or google colab, and *pushing* your modified files back to the online Github repository. The official Github tutorial for pulling existing files can be found [here](https://docs.github.com/en/get-started/start-your-journey/hello-world).\n"
   ],
   "metadata": {
    "collapsed": false
   }
  },
  {
   "cell_type": "markdown",
   "source": [
    "## Using Github files in Google colab\n",
    "\n",
    "Google colab includes an interface to easily load notebooks from Github, [https://colab.research.google.com/github/](https://colab.research.google.com/github/). This requires the url of the file that you wish to download, which can be copied from the online Github repository. For example, this notebook file is hosted at [https://github.com/aneeldamaraju/colab-demo/blob/main/main.ipynb](https://github.com/aneeldamaraju/colab-demo/blob/main/main.ipynb). Once this notebook is loaded into your Colab, it is unaffected by other changes to the Github repository, and you can modify it without affecting others versions of this file."
   ],
   "metadata": {
    "collapsed": false
   }
  },
  {
   "cell_type": "markdown",
   "source": [
    "## Importing other files into Colab\n",
    "\n",
    "### Option 1: Using `wget` to import needed files\n"
   ],
   "metadata": {
    "collapsed": false
   }
  }
 ]
}
